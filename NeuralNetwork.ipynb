{
 "metadata": {
  "name": "",
  "signature": "sha256:94c32db315a747d8ff8c89d844685853f75c765c998f14471546a687ad4e8348"
 },
 "nbformat": 3,
 "nbformat_minor": 0,
 "worksheets": [
  {
   "cells": [
    {
     "cell_type": "code",
     "collapsed": false,
     "input": [
      "import gzip\n",
      "import numpy as np"
     ],
     "language": "python",
     "metadata": {},
     "outputs": [],
     "prompt_number": 1
    },
    {
     "cell_type": "code",
     "collapsed": false,
     "input": [
      "# get the training data\n",
      "with gzip.open('../Data/zip.train.gz') as f:\n",
      "    train = np.loadtxt(f)"
     ],
     "language": "python",
     "metadata": {},
     "outputs": [],
     "prompt_number": 2
    },
    {
     "cell_type": "code",
     "collapsed": false,
     "input": [
      "# seperate the observations from the labels\n",
      "X_train = train[:,1:]\n",
      "y_train = train[:,0][:,np.newaxis]"
     ],
     "language": "python",
     "metadata": {},
     "outputs": [],
     "prompt_number": 3
    },
    {
     "cell_type": "code",
     "collapsed": false,
     "input": [
      "def pca(data, k_features):\n",
      "\n",
      "    # center the data and caculate the covariance matrix (sigma)\n",
      "    sigma = corrcoef(data.T)\n",
      "\n",
      "    # get the eigen vectors of sigma\n",
      "    eigen_vecs, _, _ = np.linalg.svd(sigma)\n",
      "    \n",
      "    # create empty matrix to hold dimensionaly reduced data\n",
      "    reduced_data = np.empty((data.shape[0], k_features))\n",
      "    \n",
      "    # for each observation x, project x onto eigen vectors\n",
      "    for observation_idx in range(data.shape[0]):\n",
      "        reduced_data[observation_idx] = np.dot(eigen_vecs[:,:k_features].T, data[observation_idx,:][:,np.newaxis])[:,np.newaxis].T\n",
      "        \n",
      "    # return dimensionaly reduced data\n",
      "    return reduced_data"
     ],
     "language": "python",
     "metadata": {},
     "outputs": [],
     "prompt_number": 4
    },
    {
     "cell_type": "code",
     "collapsed": false,
     "input": [
      "def nn_train(data, labels, weights=None, k_units=10):\n",
      "    pass"
     ],
     "language": "python",
     "metadata": {},
     "outputs": [],
     "prompt_number": 5
    }
   ],
   "metadata": {}
  }
 ]
}